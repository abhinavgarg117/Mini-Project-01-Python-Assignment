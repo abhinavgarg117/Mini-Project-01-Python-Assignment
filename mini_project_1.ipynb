{
  "nbformat": 4,
  "nbformat_minor": 0,
  "metadata": {
    "colab": {
      "provenance": [],
      "include_colab_link": true
    },
    "kernelspec": {
      "name": "python3",
      "display_name": "Python 3"
    },
    "language_info": {
      "name": "python"
    }
  },
  "cells": [
    {
      "cell_type": "markdown",
      "metadata": {
        "id": "view-in-github",
        "colab_type": "text"
      },
      "source": [
        "<a href=\"https://colab.research.google.com/github/abhinavgarg117/Mini-Project-01-Python-Assignment/blob/main/mini_project_1.ipynb\" target=\"_parent\"><img src=\"https://colab.research.google.com/assets/colab-badge.svg\" alt=\"Open In Colab\"/></a>"
      ]
    },
    {
      "cell_type": "markdown",
      "source": [],
      "metadata": {
        "id": "eYy70dcvWvR_"
      }
    },
    {
      "cell_type": "markdown",
      "source": [
        "Q1.L is a list defined as L=[11,12,13,14]"
      ],
      "metadata": {
        "id": "rLtagsxQXlHM"
      }
    },
    {
      "cell_type": "markdown",
      "source": [
        "(i)WAP to add 50 and 60 to L."
      ],
      "metadata": {
        "id": "9h5HK0L6X0AY"
      }
    },
    {
      "cell_type": "code",
      "source": [
        "# Step 1: Define the list\n",
        "L = [11, 12, 13, 14]\n",
        "\n",
        "# Step 2: Use it\n",
        "L.append(50)\n",
        "L.append(60)\n",
        "print(\"After adding:\", L)\n",
        "\n"
      ],
      "metadata": {
        "colab": {
          "base_uri": "https://localhost:8080/"
        },
        "id": "kmwMflGiX80n",
        "outputId": "5325d1cc-c8e4-4b8f-cfcd-dae3253f25e9"
      },
      "execution_count": null,
      "outputs": [
        {
          "output_type": "stream",
          "name": "stdout",
          "text": [
            "After adding: [11, 12, 13, 14, 50, 60]\n"
          ]
        }
      ]
    },
    {
      "cell_type": "markdown",
      "source": [
        "(ii)WAP to remove 11 and 13 from L."
      ],
      "metadata": {
        "id": "7PVbMpzeYaHn"
      }
    },
    {
      "cell_type": "code",
      "source": [
        "for x in (11, 13):\n",
        "    if x in L:\n",
        "        L.remove(x)         # → [12, 14, 50, 60]\n"
      ],
      "metadata": {
        "id": "i4qIFiIcYhks"
      },
      "execution_count": null,
      "outputs": []
    },
    {
      "cell_type": "markdown",
      "source": [
        "(iii)WAP to sort L in ascending order."
      ],
      "metadata": {
        "id": "TWqIw4dfYmm9"
      }
    },
    {
      "cell_type": "code",
      "source": [
        "# Define the list\n",
        "L = [11, 12, 13, 14]\n",
        "\n",
        "# Sort in ascending order\n",
        "L.sort()\n",
        "\n",
        "# Print the sorted list\n",
        "print(\"List in ascending order:\", L)\n",
        "\n"
      ],
      "metadata": {
        "id": "l6ilgX6mYxmP"
      },
      "execution_count": null,
      "outputs": []
    },
    {
      "cell_type": "markdown",
      "source": [
        "(iv)WAP to sort L in descending order."
      ],
      "metadata": {
        "id": "bjaJHi8iY1QP"
      }
    },
    {
      "cell_type": "code",
      "source": [
        "# Define the list\n",
        "L = [11, 12, 13, 14]\n",
        "\n",
        "# Sort in descending order\n",
        "L.sort(reverse=True)\n",
        "\n",
        "# Print the sorted list\n",
        "print(\"List in descending order:\", L)\n",
        "\n"
      ],
      "metadata": {
        "id": "elDIPcqZZMM0"
      },
      "execution_count": null,
      "outputs": []
    },
    {
      "cell_type": "markdown",
      "source": [
        "(v)WAP to search for 13 in L."
      ],
      "metadata": {
        "id": "P0qRLYMMYAU_"
      }
    },
    {
      "cell_type": "code",
      "source": [
        "# Define the list\n",
        "L = [11, 12, 13, 14]\n",
        "\n",
        "# Search for 13\n",
        "if 13 in L:\n",
        "    print(\"13 is present in the list.\")\n",
        "else:\n",
        "    print(\"13 is not present in the list.\")\n"
      ],
      "metadata": {
        "colab": {
          "base_uri": "https://localhost:8080/"
        },
        "id": "FwLcVTi8aJ0X",
        "outputId": "5b3e53c9-51be-401b-c6d0-10212d1d0bba"
      },
      "execution_count": null,
      "outputs": [
        {
          "output_type": "stream",
          "name": "stdout",
          "text": [
            "13 is present in the list.\n"
          ]
        }
      ]
    },
    {
      "cell_type": "markdown",
      "source": [
        "(vi) WAP to count the number of elements present in L."
      ],
      "metadata": {
        "id": "kkm1Ho_waRuS"
      }
    },
    {
      "cell_type": "code",
      "source": [
        "# Define the list\n",
        "L = [11, 12, 13, 14]\n",
        "\n",
        "# Count the number of elements\n",
        "count = len(L)\n",
        "\n",
        "# Print the result\n",
        "print(\"Number of elements in the list:\", count)\n"
      ],
      "metadata": {
        "colab": {
          "base_uri": "https://localhost:8080/"
        },
        "id": "o1i979E9aZpu",
        "outputId": "f144de92-c8cf-4c18-9770-90e5ff87407e"
      },
      "execution_count": null,
      "outputs": [
        {
          "output_type": "stream",
          "name": "stdout",
          "text": [
            "Number of elements in the list: 4\n"
          ]
        }
      ]
    },
    {
      "cell_type": "markdown",
      "source": [
        "(vii) WAP to sum all the elements in L."
      ],
      "metadata": {
        "id": "P1zP_ODRaf4p"
      }
    },
    {
      "cell_type": "code",
      "source": [
        "# Define the list\n",
        "L = [11, 12, 13, 14]\n",
        "\n",
        "# Calculate the sum of all elements\n",
        "total = sum(L)\n",
        "\n",
        "# Print the result\n",
        "print(\"Sum of all elements in the list:\", total)\n"
      ],
      "metadata": {
        "id": "TvX2P965as32"
      },
      "execution_count": null,
      "outputs": []
    },
    {
      "cell_type": "markdown",
      "source": [
        "(viii) WAP to sum all ODD numbers in L."
      ],
      "metadata": {
        "id": "pU-TnN9hayld"
      }
    },
    {
      "cell_type": "code",
      "source": [
        "# Define the list\n",
        "L = [11, 12, 13, 14]\n",
        "\n",
        "# Calculate the sum of odd numbers\n",
        "odd_sum = sum(n for n in L if n % 2 != 0)\n",
        "\n",
        "# Print the result\n",
        "print(\"Sum of all odd numbers in the list:\", odd_sum)\n"
      ],
      "metadata": {
        "colab": {
          "base_uri": "https://localhost:8080/"
        },
        "id": "EEx1uI0Ma5lK",
        "outputId": "fec178f2-ddea-4526-dfab-78d0b237d35c"
      },
      "execution_count": null,
      "outputs": [
        {
          "output_type": "stream",
          "name": "stdout",
          "text": [
            "Sum of all odd numbers in the list: 24\n"
          ]
        }
      ]
    },
    {
      "cell_type": "markdown",
      "source": [
        "(ix) WAP to sum all EVEN numbers in L."
      ],
      "metadata": {
        "id": "UXs5bWRibCRZ"
      }
    },
    {
      "cell_type": "code",
      "source": [
        "# Define the list\n",
        "L = [11, 12, 13, 14]\n",
        "\n",
        "# Calculate the sum of even numbers\n",
        "even_sum = sum(n for n in L if n % 2 == 0)\n",
        "\n",
        "# Print the result\n",
        "print(\"Sum of all even numbers in the list:\", even_sum)\n"
      ],
      "metadata": {
        "id": "E5pVOiYObJv9"
      },
      "execution_count": null,
      "outputs": []
    },
    {
      "cell_type": "markdown",
      "source": [
        "(x) WAP to sum all PRIME numbers in L."
      ],
      "metadata": {
        "id": "0CfoSjfJbPCa"
      }
    },
    {
      "cell_type": "code",
      "source": [
        "# Define the list\n",
        "L = [11, 12, 13, 14]\n",
        "\n",
        "# Function to check if a number is prime\n",
        "def is_prime(n):\n",
        "    if n < 2:\n",
        "        return False\n",
        "    for i in range(2, int(n ** 0.5) + 1):\n",
        "        if n % i == 0:\n",
        "            return False\n",
        "    return True\n",
        "\n",
        "# Calculate the sum of prime numbers\n",
        "prime_sum = sum(n for n in L if is_prime(n))\n",
        "\n",
        "# Print the result\n",
        "print(\"Sum of all prime numbers in the list:\", prime_sum)\n"
      ],
      "metadata": {
        "id": "QGvx2HngbbMd"
      },
      "execution_count": null,
      "outputs": []
    },
    {
      "cell_type": "markdown",
      "source": [
        "(xi) WAP to clear all the elements in L."
      ],
      "metadata": {
        "id": "V9jIM4AUbcjF"
      }
    },
    {
      "cell_type": "code",
      "source": [
        "L = [11, 12, 13, 14]  # Example list\n",
        "L.clear()  # Clears all elements from the list\n",
        "print(L)  # Output will be []\n"
      ],
      "metadata": {
        "colab": {
          "base_uri": "https://localhost:8080/"
        },
        "id": "lC0_aTIRbjZB",
        "outputId": "4c421448-9630-4c0d-ab83-9506ee955f3f"
      },
      "execution_count": null,
      "outputs": [
        {
          "output_type": "stream",
          "name": "stdout",
          "text": [
            "[]\n"
          ]
        }
      ]
    },
    {
      "cell_type": "markdown",
      "source": [
        "(xii) WAP to delete L."
      ],
      "metadata": {
        "id": "cHrYr0BBbtaJ"
      }
    },
    {
      "cell_type": "code",
      "source": [
        "L = [11, 12, 13, 14]  # Example list\n",
        "del L  # Deletes the list variable L\n",
        "\n",
        "# Now, if you try to print L, it will give an error because L no longer exists\n",
        "# print(L)  # This will raise NameError: name 'L' is not defined\n"
      ],
      "metadata": {
        "id": "RST6xX2ybyEa"
      },
      "execution_count": null,
      "outputs": []
    },
    {
      "cell_type": "markdown",
      "source": [
        "Q2. D is a dictionary defined as D={1:5.6,2:7.8,3:3.6,4:8.7,5:7.7}"
      ],
      "metadata": {
        "id": "NedfJFazb34q"
      }
    },
    {
      "cell_type": "markdown",
      "source": [
        "(i) WAP to add new entry in D;key=8 and value is 8.8"
      ],
      "metadata": {
        "id": "Daqz53CmcMhc"
      }
    },
    {
      "cell_type": "code",
      "source": [
        "D = {1: 5.6, 2: 7.8, 3: 3.6, 4: 8.7, 5: 7.7}  # existing dictionary\n",
        "D[8] = 8.8  # adding new key-value pair\n",
        "print(D)\n"
      ],
      "metadata": {
        "colab": {
          "base_uri": "https://localhost:8080/"
        },
        "id": "scXXK4yYcV1Y",
        "outputId": "7dd904f9-6e3a-4098-89ec-6fe4b4608906"
      },
      "execution_count": null,
      "outputs": [
        {
          "output_type": "stream",
          "name": "stdout",
          "text": [
            "{1: 5.6, 2: 7.8, 3: 3.6, 4: 8.7, 5: 7.7, 8: 8.8}\n"
          ]
        }
      ]
    },
    {
      "cell_type": "markdown",
      "source": [
        "(ii) WAP to remove key=2"
      ],
      "metadata": {
        "id": "oKHn1pKIclFA"
      }
    },
    {
      "cell_type": "code",
      "source": [
        "D = {1: 5.6, 2: 7.8, 3: 3.6, 4: 8.7, 5: 7.7}\n",
        "\n",
        "# Using pop()\n",
        "D.pop(2, None)  # Removes key 2 if present, does nothing if not\n",
        "\n",
        "# OR using del\n",
        "# del D[2]  # This raises KeyError if key 2 is not present\n",
        "\n",
        "print(D)\n"
      ],
      "metadata": {
        "id": "lVrpfBJMcrCi"
      },
      "execution_count": null,
      "outputs": []
    },
    {
      "cell_type": "markdown",
      "source": [
        "(iii) WAP to check weather 6 key is present in D."
      ],
      "metadata": {
        "id": "IxXUdOJgcu9J"
      }
    },
    {
      "cell_type": "code",
      "source": [
        "D = {1: 5.6, 2: 7.8, 3: 3.6, 4: 8.7, 5: 7.7}\n",
        "\n",
        "if 6 in D:\n",
        "    print(\"Key 6 is present in D.\")\n",
        "else:\n",
        "    print(\"Key 6 is not present in D.\")\n"
      ],
      "metadata": {
        "id": "blgCxvHFdA11"
      },
      "execution_count": null,
      "outputs": []
    },
    {
      "cell_type": "markdown",
      "source": [
        "(iv) WAP to count the number of elements present in D."
      ],
      "metadata": {
        "id": "f-6PG4xwdGJv"
      }
    },
    {
      "cell_type": "code",
      "source": [
        "D = {1: 5.6, 2: 7.8, 3: 3.6, 4: 8.7, 5: 7.7}\n",
        "\n",
        "count = len(D)\n",
        "print(\"Number of elements in D:\", count)\n"
      ],
      "metadata": {
        "id": "NTIGeg30dNJz"
      },
      "execution_count": null,
      "outputs": []
    },
    {
      "cell_type": "markdown",
      "source": [
        "(v) WAP to add all the values present in D."
      ],
      "metadata": {
        "id": "EKGAUsNCdQww"
      }
    },
    {
      "cell_type": "code",
      "source": [
        "D = {1: 5.6, 2: 7.8, 3: 3.6, 4: 8.7, 5: 7.7}\n",
        "\n",
        "total = sum(D.values())\n",
        "print(\"Sum of all values in D:\", total)\n"
      ],
      "metadata": {
        "id": "sGJ0oZKkdW4b"
      },
      "execution_count": null,
      "outputs": []
    },
    {
      "cell_type": "markdown",
      "source": [
        "(vi) WAP to update the value of 3 to 7.1."
      ],
      "metadata": {
        "id": "WRr61lLHda9x"
      }
    },
    {
      "cell_type": "code",
      "source": [
        "D = {1: 5.6, 2: 7.8, 3: 3.6, 4: 8.7, 5: 7.7}\n",
        "\n",
        "D[3] = 7.1  # Update the value for key 3\n",
        "\n",
        "print(D)\n"
      ],
      "metadata": {
        "id": "NFu4Jalkdid4"
      },
      "execution_count": null,
      "outputs": []
    },
    {
      "cell_type": "markdown",
      "source": [
        "(vii) WAP to clear the dictionary."
      ],
      "metadata": {
        "id": "dqfbCL7ldl-8"
      }
    },
    {
      "cell_type": "code",
      "source": [
        "D = {1: 5.6, 2: 7.8, 3: 3.6, 4: 8.7, 5: 7.7}\n",
        "\n",
        "D.clear()  # Removes all key-value pairs from D\n",
        "\n",
        "print(D)  # Output will be {}\n"
      ],
      "metadata": {
        "id": "sO2leDP8drCT"
      },
      "execution_count": null,
      "outputs": []
    },
    {
      "cell_type": "markdown",
      "source": [
        "Q3. S1 is a set defined as S1=[10,20,30,40,50,60]\n",
        "    S2 is a set defined as S2=[40,50,60,70,80,90]"
      ],
      "metadata": {
        "id": "xvTumQwSdvo3"
      }
    },
    {
      "cell_type": "markdown",
      "source": [
        "(i) WAP to add 55 and 66 in set S1."
      ],
      "metadata": {
        "id": "Hg2v-XFseE4P"
      }
    },
    {
      "cell_type": "code",
      "source": [
        "S1 = {10, 20, 30, 40, 50, 60}\n",
        "\n",
        "# Adding elements one by one\n",
        "S1.add(55)\n",
        "S1.add(66)\n",
        "\n",
        "print(S1)\n"
      ],
      "metadata": {
        "colab": {
          "base_uri": "https://localhost:8080/"
        },
        "id": "hWISY-nCeMcv",
        "outputId": "b34fd95d-801f-4006-809d-e13e83577d3c"
      },
      "execution_count": null,
      "outputs": [
        {
          "output_type": "stream",
          "name": "stdout",
          "text": [
            "{50, 66, 20, 55, 40, 10, 60, 30}\n"
          ]
        }
      ]
    },
    {
      "cell_type": "markdown",
      "source": [
        "(ii) WAP to remove 10 and 30 from set S1."
      ],
      "metadata": {
        "id": "0NL9-rHUeWCf"
      }
    },
    {
      "cell_type": "code",
      "source": [
        "S1 = {10, 20, 30, 40, 50, 60}\n",
        "\n",
        "S1.remove(10)\n",
        "S1.remove(30)\n",
        "\n",
        "print(S1)\n"
      ],
      "metadata": {
        "colab": {
          "base_uri": "https://localhost:8080/"
        },
        "id": "bZVfaEEfegLn",
        "outputId": "0f8bc94b-8ff9-4a1b-cc08-e83d4b5d3bff"
      },
      "execution_count": null,
      "outputs": [
        {
          "output_type": "stream",
          "name": "stdout",
          "text": [
            "{50, 20, 40, 60}\n"
          ]
        }
      ]
    },
    {
      "cell_type": "markdown",
      "source": [
        "(iii) WAP to check whether 40 is present in S1."
      ],
      "metadata": {
        "id": "jO61zYQZelOm"
      }
    },
    {
      "cell_type": "code",
      "source": [
        "S1 = {10, 20, 30, 40, 50, 60}\n",
        "\n",
        "if 40 in S1:\n",
        "    print(\"40 is present in S1.\")\n",
        "else:\n",
        "    print(\"40 is not present in S1.\")\n"
      ],
      "metadata": {
        "id": "5BUrVA_ZeurH"
      },
      "execution_count": null,
      "outputs": []
    },
    {
      "cell_type": "markdown",
      "source": [
        "(iv) WAP to find the union between S1 and S2."
      ],
      "metadata": {
        "id": "CfrTGN0Wey76"
      }
    },
    {
      "cell_type": "code",
      "source": [
        "S1 = {10, 20, 30, 40, 50, 60}\n",
        "S2 = {40, 50, 60, 70, 80, 90}\n",
        "\n",
        "# Using union() method\n",
        "union_set = S1.union(S2)\n",
        "\n",
        "# OR using | operator\n",
        "# union_set = S1 | S2\n",
        "\n",
        "print(\"Union of S1 and S2:\", union_set)\n"
      ],
      "metadata": {
        "id": "Q1q96Eihe6fr"
      },
      "execution_count": null,
      "outputs": []
    },
    {
      "cell_type": "markdown",
      "source": [
        "(v) WAP to find the intersection between S1 and S2."
      ],
      "metadata": {
        "id": "WSev5mQze_FH"
      }
    },
    {
      "cell_type": "code",
      "source": [
        "S1 = {10, 20, 30, 40, 50, 60}\n",
        "S2 = {40, 50, 60, 70, 80, 90}\n",
        "\n",
        "# Using intersection() method\n",
        "intersection_set = S1.intersection(S2)\n",
        "\n",
        "# OR using & operator\n",
        "# intersection_set = S1 & S2\n",
        "\n",
        "print(\"Intersection of S1 and S2:\", intersection_set)\n"
      ],
      "metadata": {
        "id": "rGGYyVgTfFVC"
      },
      "execution_count": null,
      "outputs": []
    },
    {
      "cell_type": "markdown",
      "source": [
        "(vi) WAP to find the S1-S2."
      ],
      "metadata": {
        "id": "5t-_K7YsfJMw"
      }
    },
    {
      "cell_type": "code",
      "source": [
        "S1 = {10, 20, 30, 40, 50, 60}\n",
        "S2 = {40, 50, 60, 70, 80, 90}\n",
        "\n",
        "# Using difference() method\n",
        "diff_set = S1.difference(S2)\n",
        "\n",
        "# OR using - operator\n",
        "# diff_set = S1 - S2\n",
        "\n",
        "print(\"Difference S1 - S2:\", diff_set)\n"
      ],
      "metadata": {
        "id": "-LtTeS7ufPcJ"
      },
      "execution_count": null,
      "outputs": []
    },
    {
      "cell_type": "markdown",
      "source": [
        "Q4. Write the following program."
      ],
      "metadata": {
        "id": "wpboHC_yfToG"
      }
    },
    {
      "cell_type": "markdown",
      "source": [
        "(i) WAP to print 100 random strings whose length is between 6 and 8."
      ],
      "metadata": {
        "id": "VW9RCWU3fbxG"
      }
    },
    {
      "cell_type": "code",
      "source": [
        "import random\n",
        "import string\n",
        "\n",
        "for _ in range(100):\n",
        "    length = random.randint(6, 8)  # random length between 6 and 8\n",
        "    rand_str = ''.join(random.choices(string.ascii_letters + string.digits, k=length))\n",
        "    print(rand_str)\n"
      ],
      "metadata": {
        "colab": {
          "base_uri": "https://localhost:8080/"
        },
        "id": "OFltXJgXfmHy",
        "outputId": "f36266b1-00ea-4df5-a791-6ce0a9f9128e"
      },
      "execution_count": null,
      "outputs": [
        {
          "output_type": "stream",
          "name": "stdout",
          "text": [
            "jEDKEb\n",
            "znMbum5C\n",
            "1ktKch\n",
            "Lxs4cKB\n",
            "81dmqBX\n",
            "41Wahs\n",
            "tqFWOnXf\n",
            "Rza82ar3\n",
            "48OVhxve\n",
            "4Gtsoh\n",
            "NSlvE5\n",
            "OvODSbQp\n",
            "HFA0X8iV\n",
            "IuE17H\n",
            "mf1JH3Wk\n",
            "colQrZXN\n",
            "c9WXe2I\n",
            "Ob8JDLL\n",
            "JMpzNPDs\n",
            "4EuOAUR\n",
            "apvWwP\n",
            "ptqNt2\n",
            "y8VNRjM\n",
            "qJoOs1S\n",
            "Bk6wzUJ\n",
            "Aa3z5L5Y\n",
            "Lwp6dN\n",
            "Zp26Za0i\n",
            "bTFqRFSi\n",
            "3NvYCM\n",
            "zEz9ZoT0\n",
            "upPjvZGN\n",
            "6v0RAPt\n",
            "S3Yjn38e\n",
            "ea5mJq0b\n",
            "wUiYl70u\n",
            "oxtwR2l\n",
            "ElblDt\n",
            "emWweWJ\n",
            "5AIM6g2\n",
            "BanXfRlt\n",
            "sSJyfw\n",
            "f4FpTt\n",
            "3THLji\n",
            "IbInBqc\n",
            "CE9qKH\n",
            "e1SqwwZ5\n",
            "fwlJeIFy\n",
            "Y0d2BtSS\n",
            "H6hsvQv\n",
            "YFm40FEw\n",
            "w0yzds\n",
            "vGKpXc\n",
            "dbAFbexj\n",
            "GJdXqUL\n",
            "sILUo0L\n",
            "HByqtf\n",
            "MpITZABl\n",
            "xYP6DG\n",
            "Ulyrw6w\n",
            "osuUFw\n",
            "jArxVb5\n",
            "sg6t4sFc\n",
            "Y3KSLYD9\n",
            "Fzpy1Ks\n",
            "PvJQN1\n",
            "VriWh8Bu\n",
            "jyYu9lUY\n",
            "ZyL4wR9\n",
            "OhoxpMmV\n",
            "OUNWVJ1\n",
            "zlmmOc\n",
            "kT77bD3k\n",
            "VgP9n8Kb\n",
            "hmqDQQSZ\n",
            "DR64LC\n",
            "a61jqEvd\n",
            "GnQwfQ\n",
            "WzHzGP\n",
            "tZ0KfYL\n",
            "DlDHBJ\n",
            "H3okvPIO\n",
            "dbehvo1W\n",
            "x1A7eb\n",
            "s4EMTJ\n",
            "dQLc7O\n",
            "SXqkAPI\n",
            "crIPB2T\n",
            "I06fxls\n",
            "jjWcpSo9\n",
            "QjIBArFr\n",
            "cpvEXnkr\n",
            "r99cuft\n",
            "Z2FehlI\n",
            "X24ZI164\n",
            "VG2qXBaj\n",
            "LyHuPbs\n",
            "BfC7Y7\n",
            "KWs9sN2\n",
            "On6qJIY\n"
          ]
        }
      ]
    },
    {
      "cell_type": "markdown",
      "source": [
        "(ii) WAP to print all prime numbers between 600 and 800."
      ],
      "metadata": {
        "id": "OgVf6CF_fsab"
      }
    },
    {
      "cell_type": "code",
      "source": [
        "def is_prime(n):\n",
        "    if n < 2:\n",
        "        return False\n",
        "    for i in range(2, int(n**0.5) + 1):\n",
        "        if n % i == 0:\n",
        "            return False\n",
        "    return True\n",
        "\n",
        "for num in range(600, 801):\n",
        "    if is_prime(num):\n",
        "        print(num)\n"
      ],
      "metadata": {
        "id": "cHTrGzWIfzO1"
      },
      "execution_count": null,
      "outputs": []
    },
    {
      "cell_type": "markdown",
      "source": [
        "(iii) WAP to print all numbers vetween 100 and 1000 that are divisible by 7 and 9."
      ],
      "metadata": {
        "id": "Tqzjqwigf3O-"
      }
    },
    {
      "cell_type": "code",
      "source": [
        "for num in range(100, 1001):\n",
        "    if num % 7 == 0 and num % 9 == 0:\n",
        "        print(num)\n"
      ],
      "metadata": {
        "colab": {
          "base_uri": "https://localhost:8080/"
        },
        "id": "D9iBYBqqgDn-",
        "outputId": "28247f04-b05f-4e44-c080-63547243d394"
      },
      "execution_count": null,
      "outputs": [
        {
          "output_type": "stream",
          "name": "stdout",
          "text": [
            "126\n",
            "189\n",
            "252\n",
            "315\n",
            "378\n",
            "441\n",
            "504\n",
            "567\n",
            "630\n",
            "693\n",
            "756\n",
            "819\n",
            "882\n",
            "945\n"
          ]
        }
      ]
    },
    {
      "cell_type": "markdown",
      "source": [
        "Q5. WAP to create list of 10 random numbers between 10 and 30;Find"
      ],
      "metadata": {
        "id": "SfNQvOyHgJaW"
      }
    },
    {
      "cell_type": "markdown",
      "source": [
        "(i) common numbers in the two lists."
      ],
      "metadata": {
        "id": "z3EhQAVPgeDT"
      }
    },
    {
      "cell_type": "code",
      "source": [
        "import random\n",
        "\n",
        "# Create two lists of 10 random numbers between 10 and 30\n",
        "list1 = [random.randint(10, 30) for _ in range(10)]\n",
        "list2 = [random.randint(10, 30) for _ in range(10)]\n",
        "\n",
        "print(\"List 1:\", list1)\n",
        "print(\"List 2:\", list2)\n",
        "\n",
        "# Find common numbers\n",
        "common_numbers = set(list1) & set(list2)\n",
        "\n",
        "print(\"Common numbers in both lists:\", common_numbers)\n"
      ],
      "metadata": {
        "id": "c-xbT4Wegi61"
      },
      "execution_count": null,
      "outputs": []
    },
    {
      "cell_type": "markdown",
      "source": [
        "(ii) Unique numbers in both the lists."
      ],
      "metadata": {
        "id": "0cQuS40mgn-m"
      }
    },
    {
      "cell_type": "code",
      "source": [
        "import random\n",
        "\n",
        "# Create two lists of 10 random numbers between 10 and 30\n",
        "list1 = [random.randint(10, 30) for _ in range(10)]\n",
        "list2 = [random.randint(10, 30) for _ in range(10)]\n",
        "\n",
        "print(\"List 1:\", list1)\n",
        "print(\"List 2:\", list2)\n",
        "\n",
        "# (i) Common numbers in both lists\n",
        "common_numbers = set(list1) & set(list2)\n",
        "print(\"Common numbers:\", common_numbers)\n",
        "\n",
        "# (ii) Unique numbers in both lists (not common)\n",
        "unique_numbers = set(list1) ^ set(list2)  # symmetric difference\n",
        "print(\"Unique numbers in both lists:\", unique_numbers)\n"
      ],
      "metadata": {
        "id": "tluOzpCugsaF"
      },
      "execution_count": null,
      "outputs": []
    },
    {
      "cell_type": "markdown",
      "source": [
        "(iii) Minimum in both the lists."
      ],
      "metadata": {
        "id": "DW5Ww_Xggx4G"
      }
    },
    {
      "cell_type": "code",
      "source": [
        "import random\n",
        "\n",
        "# Create two lists of 10 random numbers between 10 and 30\n",
        "list1 = [random.randint(10, 30) for _ in range(10)]\n",
        "list2 = [random.randint(10, 30) for _ in range(10)]\n",
        "\n",
        "print(\"List 1:\", list1)\n",
        "print(\"List 2:\", list2)\n",
        "\n",
        "# (i) Common numbers in both lists\n",
        "common_numbers = set(list1) & set(list2)\n",
        "print(\"Common numbers:\", common_numbers)\n",
        "\n",
        "# (ii) Unique numbers in both lists (not common)\n",
        "unique_numbers = set(list1) ^ set(list2)\n",
        "print(\"Unique numbers in both lists:\", unique_numbers)\n",
        "\n",
        "# (iii) Minimum in both lists\n",
        "min_list1 = min(list1)\n",
        "min_list2 = min(list2)\n",
        "print(\"Minimum in List 1:\", min_list1)\n",
        "print(\"Minimum in List 2:\", min_list2)\n"
      ],
      "metadata": {
        "id": "113QL1k_g4cl"
      },
      "execution_count": null,
      "outputs": []
    },
    {
      "cell_type": "markdown",
      "source": [
        "(iv) Maximum in both the lists."
      ],
      "metadata": {
        "id": "jH7IY1M-g8XF"
      }
    },
    {
      "cell_type": "code",
      "source": [
        "import random\n",
        "\n",
        "# Create two lists of 10 random numbers between 10 and 30\n",
        "list1 = [random.randint(10, 30) for _ in range(10)]\n",
        "list2 = [random.randint(10, 30) for _ in range(10)]\n",
        "\n",
        "print(\"List 1:\", list1)\n",
        "print(\"List 2:\", list2)\n",
        "\n",
        "# (i) Common numbers in both lists\n",
        "common_numbers = set(list1) & set(list2)\n",
        "print(\"Common numbers:\", common_numbers)\n",
        "\n",
        "# (ii) Unique numbers in both lists (not common)\n",
        "unique_numbers = set(list1) ^ set(list2)\n",
        "print(\"Unique numbers in both lists:\", unique_numbers)\n",
        "\n",
        "# (iii) Minimum in both lists\n",
        "min_list1 = min(list1)\n",
        "min_list2 = min(list2)\n",
        "print(\"Minimum in List 1:\", min_list1)\n",
        "print(\"Minimum in List 2:\", min_list2)\n",
        "\n",
        "# (iv) Maximum in both lists\n",
        "max_list1 = max(list1)\n",
        "max_list2 = max(list2)\n",
        "print(\"Maximum in List 1:\", max_list1)\n",
        "print(\"Maximum in List 2:\", max_list2)\n"
      ],
      "metadata": {
        "id": "6WtS039XhByh"
      },
      "execution_count": null,
      "outputs": []
    },
    {
      "cell_type": "markdown",
      "source": [
        "(v) Sum of both the lists."
      ],
      "metadata": {
        "id": "ZjQgn9jFhHzV"
      }
    },
    {
      "cell_type": "code",
      "source": [
        "import random\n",
        "\n",
        "# Create two lists of 10 random numbers between 10 and 30\n",
        "list1 = [random.randint(10, 30) for _ in range(10)]\n",
        "list2 = [random.randint(10, 30) for _ in range(10)]\n",
        "\n",
        "print(\"List 1:\", list1)\n",
        "print(\"List 2:\", list2)\n",
        "\n",
        "# (i) Common numbers in both lists\n",
        "common_numbers = set(list1) & set(list2)\n",
        "print(\"Common numbers:\", common_numbers)\n",
        "\n",
        "# (ii) Unique numbers in both lists (not common)\n",
        "unique_numbers = set(list1) ^ set(list2)\n",
        "print(\"Unique numbers in both lists:\", unique_numbers)\n",
        "\n",
        "# (iii) Minimum in both lists\n",
        "min_list1 = min(list1)\n",
        "min_list2 = min(list2)\n",
        "print(\"Minimum in List 1:\", min_list1)\n",
        "print(\"Minimum in List 2:\", min_list2)\n",
        "\n",
        "# (iv) Maximum in both lists\n",
        "max_list1 = max(list1)\n",
        "max_list2 = max(list2)\n",
        "print(\"Maximum in List 1:\", max_list1)\n",
        "print(\"Maximum in List 2:\", max_list2)\n",
        "\n",
        "# (v) Sum of both lists\n",
        "sum_list1 = sum(list1)\n",
        "sum_list2 = sum(list2)\n",
        "print(\"Sum of List 1:\", sum_list1)\n",
        "print(\"Sum of List 2:\", sum_list2)\n"
      ],
      "metadata": {
        "id": "noT9eEJGhMfZ"
      },
      "execution_count": null,
      "outputs": []
    }
  ]
}